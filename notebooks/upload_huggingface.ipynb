{
 "cells": [
  {
   "cell_type": "code",
   "execution_count": 1,
   "metadata": {},
   "outputs": [
    {
     "name": "stderr",
     "output_type": "stream",
     "text": [
      "/mnt/ssd/aryawu/miniconda3/lib/python3.12/site-packages/tqdm/auto.py:21: TqdmWarning: IProgress not found. Please update jupyter and ipywidgets. See https://ipywidgets.readthedocs.io/en/stable/user_install.html\n",
      "  from .autonotebook import tqdm as notebook_tqdm\n",
      "Generating train split: 953 examples [00:00, 95391.06 examples/s]\n"
     ]
    },
    {
     "name": "stdout",
     "output_type": "stream",
     "text": [
      "DatasetDict({\n",
      "    test: Dataset({\n",
      "        features: ['problem', 'entrypoint', 'assertions', 'prints', 'username', 'submitted_text', 'tests_passed', 'total_tests', 'prompt', 'completion', 'first_attempt', 'last_attempt', 'is_success', 'is_first_success', 'is_last_success', 'is_first_failure', 'is_last_failure', '__index_level_0__'],\n",
      "        num_rows: 953\n",
      "    })\n",
      "})\n"
     ]
    },
    {
     "name": "stderr",
     "output_type": "stream",
     "text": [
      "Creating parquet from Arrow format: 100%|██████████| 1/1 [00:00<00:00, 143.39ba/s]\n",
      "Uploading the dataset shards: 100%|██████████| 1/1 [00:00<00:00,  1.92it/s]\n"
     ]
    },
    {
     "data": {
      "text/plain": [
       "CommitInfo(commit_url='https://huggingface.co/datasets/nuprl-staging/studenteval_tagged_prompts/commit/fb362240aa14d71af4a2ac66fb10afd7ec0c517d', commit_message='Upload dataset', commit_description='', oid='fb362240aa14d71af4a2ac66fb10afd7ec0c517d', pr_url=None, pr_revision=None, pr_num=None)"
      ]
     },
     "execution_count": 1,
     "metadata": {},
     "output_type": "execute_result"
    }
   ],
   "source": [
    "from datasets import load_dataset, DatasetDict\n",
    "import os\n",
    "# Load the JSONL file into a Dataset object\n",
    "dataset = load_dataset('json', data_files='/mnt/ssd/aryawu/studenteval_nlp/tagged_prompts.jsonl',split='train')\n",
    "dataset_dict = DatasetDict({\n",
    "    'test': dataset\n",
    "})\n",
    "\n",
    "# Verify the new DatasetDict\n",
    "print(dataset_dict)\n",
    "\n",
    "dataset_dict.push_to_hub(\"nuprl-staging/studenteval_tagged_prompts\", private=True, token=os.getenv('HF_TOKEN_WRITE'))\n"
   ]
  },
  {
   "cell_type": "code",
   "execution_count": 2,
   "metadata": {},
   "outputs": [
    {
     "name": "stderr",
     "output_type": "stream",
     "text": [
      "Downloading readme: 100%|██████████| 949/949 [00:00<00:00, 2.84MB/s]\n",
      "Downloading data: 100%|██████████| 214k/214k [00:00<00:00, 895kB/s]\n",
      "Generating test split: 100%|██████████| 953/953 [00:00<00:00, 131641.80 examples/s]\n"
     ]
    },
    {
     "data": {
      "text/plain": [
       "DatasetDict({\n",
       "    test: Dataset({\n",
       "        features: ['problem', 'entrypoint', 'assertions', 'prints', 'username', 'submitted_text', 'tests_passed', 'total_tests', 'prompt', 'completion', 'first_attempt', 'last_attempt', 'is_success', 'is_first_success', 'is_last_success', 'is_first_failure', 'is_last_failure', '__index_level_0__'],\n",
       "        num_rows: 953\n",
       "    })\n",
       "})"
      ]
     },
     "execution_count": 2,
     "metadata": {},
     "output_type": "execute_result"
    }
   ],
   "source": [
    "ds = load_dataset(\"nuprl-staging/studenteval_tagged_prompts\")\n",
    "ds"
   ]
  }
 ],
 "metadata": {
  "kernelspec": {
   "display_name": "base",
   "language": "python",
   "name": "python3"
  },
  "language_info": {
   "codemirror_mode": {
    "name": "ipython",
    "version": 3
   },
   "file_extension": ".py",
   "mimetype": "text/x-python",
   "name": "python",
   "nbconvert_exporter": "python",
   "pygments_lexer": "ipython3",
   "version": "3.12.2"
  }
 },
 "nbformat": 4,
 "nbformat_minor": 2
}
