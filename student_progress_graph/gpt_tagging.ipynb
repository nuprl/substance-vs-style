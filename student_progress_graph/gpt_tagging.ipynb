{
 "cells": [
  {
   "cell_type": "code",
   "execution_count": 1,
   "metadata": {},
   "outputs": [],
   "source": [
    "%load_ext autoreload\n",
    "%autoreload 2"
   ]
  },
  {
   "cell_type": "code",
   "execution_count": 13,
   "metadata": {},
   "outputs": [],
   "source": [
    "import os\n",
    "import openai\n",
    "import json\n",
    "import yaml\n",
    "from graph_utils import load_graph"
   ]
  },
  {
   "cell_type": "code",
   "execution_count": 36,
   "metadata": {},
   "outputs": [],
   "source": [
    "def load_problem_tags(problem_yaml, problem):\n",
    "    with open(problem_yaml, \"r\") as fp:\n",
    "        problem_tags = yaml.safe_load(fp)[problem][\"tags\"]\n",
    "    problem_tags = [\"- \"+str(item).replace(\"{\",\"\").replace(\"}\",\"\").replace(\"'\",\"\") \n",
    "                    for item in problem_tags]\n",
    "    return problem_tags\n",
    "\n",
    "def load_edge_prompts(graph):\n",
    "    edge_prompts = []\n",
    "    for edge in graph.edges:\n",
    "        edge_prompts.append({\n",
    "            \"prompt_A\": edge.prompt_from.strip(),\n",
    "            \"prompt_B\": edge.prompt_to.strip(),\n",
    "            \"diff\": edge.diff.strip(),\n",
    "            \"edits\":  \"\\n\".join([\"- \"+str(item).replace(\"{\",\"\").replace(\"}\",\"\").replace(\"'\",\"\") \n",
    "                    for item in edge._edge_tags])\n",
    "        })\n",
    "    return edge_prompts"
   ]
  },
  {
   "cell_type": "code",
   "execution_count": 37,
   "metadata": {},
   "outputs": [
    {
     "name": "stdout",
     "output_type": "stream",
     "text": [
      "['- 1: edge case of list in list', '- 2: concatenate num to strings', '- 3: add num to integers', '- 4: return list']\n",
      "{\n",
      "    \"prompt_A\": \"def add_int(lst, num):\\n    \\\"\\\"\\\"\\n    Takes an input list (which can have both strings and integers) and an integer. Adds the input integer to each item in the input list. \\n    \\\"\\\"\\\"\",\n",
      "    \"prompt_B\": \"def add_int(lst, num):\\n    \\\"\\\"\\\"\\n    Takes an input list and an input integer. For all strings in the list, the input integer is concatenated after the end of the string. For all numbers in the list, the input integer is added to that number.\\n    \\\"\\\"\\\"\",\n",
      "    \"diff\": \"--- \\n+++ \\n@@ -6,25 +6,39 @@\\n an input list-(which-can-have-both-strings-and-integers) and an+input integer.-Adds+For+all+strings+in+the+list, the input integer-to-each-item+is+concatenated+after+the+end+of+the+string.+For+all+numbers in the+list,+the input-list.+integer+is+added+to+that+number. \\\"\\\"\\\"\",\n",
      "    \"edits\": \"- a2\\n- m3\"\n",
      "}\n"
     ]
    }
   ],
   "source": [
    "graph_yaml = \"../tagging_clues/tagging_graphs_sep27/add_int.yaml\"\n",
    "problem_tags_yaml = \"../tagging_clues/problem_clues.yaml\"\n",
    "\n",
    "graph = load_graph(graph_yaml)\n",
    "problem_tags = load_problem_tags(problem_tags_yaml, graph.problem)\n",
    "edge_prompts = load_edge_prompts(graph)\n",
    "print(problem_tags)\n",
    "print(json.dumps(edge_prompts[0], indent=4))"
   ]
  },
  {
   "cell_type": "code",
   "execution_count": 51,
   "metadata": {},
   "outputs": [],
   "source": [
    "prompt = \"\"\"\n",
    "You are given two function docstrings, A and B, written by a student. The\n",
    "student starts with A and modifies it to get B. Select out of the following \n",
    "edit types, the changes that the student has applied:\n",
    "\n",
    "- 0: no changes or trivial change with no semantic difference\n",
    "{problem_tags}\n",
    "\n",
    "Further, add a prefix specifying HOW the student has applied the change.\n",
    "Use the following modifiers.\n",
    "\n",
    "- a: student has added the edit\n",
    "- d: student has removed the edit\n",
    "- l: student has revised the edit with less detail\n",
    "- m: student has revised the edit with more detail\n",
    "\"\"\".strip()\n",
    "\n",
    "example = \"\"\"\n",
    "# prompt A\n",
    "{prompt_A}\n",
    "\n",
    "# prompt B\n",
    "{prompt_B}\n",
    "\n",
    "# edits applied\n",
    "{edits}\n",
    "\"\"\".strip()\n",
    "\n",
    "query = example.split(\"# edits applied\\n\")[0] + \"# edits applied\\n\""
   ]
  },
  {
   "cell_type": "code",
   "execution_count": 58,
   "metadata": {},
   "outputs": [
    {
     "name": "stdout",
     "output_type": "stream",
     "text": [
      "You are given two function docstrings, A and B, written by a student. The\n",
      "student starts with A and modifies it to get B. Select out of the following \n",
      "edit types, the changes that the student has applied:\n",
      "\n",
      "- 0: no changes or trivial change with no semantic difference\n",
      "- 1: edge case of list in list\n",
      "- 2: concatenate num to strings\n",
      "- 3: add num to integers\n",
      "- 4: return list\n",
      "\n",
      "Further, add a prefix specifying HOW the student has applied the change.\n",
      "Use the following modifiers.\n",
      "\n",
      "- a: student has added the edit\n",
      "- d: student has removed the edit\n",
      "- l: student has revised the edit with less detail\n",
      "- m: student has revised the edit with more detail\n",
      "\n",
      "# prompt A\n",
      "def add_int(lst, num):\n",
      "    \"\"\"\n",
      "    Return a new list with the integer added at each index of the old list. If it is a string, append it to the end. If it is an integer, concatenate.\n",
      "    \"\"\"\n",
      "\n",
      "# prompt B\n",
      "def add_int(lst, num):\n",
      "    \"\"\"\n",
      "    Return a new list with the integer added at each index of the old list. If it is a string, add it to the end to create a new string. If it is an integer, or a string containing an integer, concatenate.\n",
      "    \"\"\"\n",
      "\n",
      "# edits applied\n",
      "**EXPECTED**\n",
      "- m2\n",
      "- m3\n"
     ]
    }
   ],
   "source": [
    "prompt_start = prompt.format(problem_tags=\"\\n\".join(problem_tags))\n",
    "prompt_example_0 = example.format(**edge_prompts[0])\n",
    "prompt_cont = query.format(**edge_prompts[7])\n",
    "\n",
    "full_prompt = \"\\n\\n\".join([p.strip() for p in [prompt_start, prompt_cont]])\n",
    "print(full_prompt)\n",
    "print(\"**EXPECTED**\")\n",
    "print(edge_prompts[7][\"edits\"])"
   ]
  },
  {
   "cell_type": "code",
   "execution_count": 67,
   "metadata": {},
   "outputs": [
    {
     "name": "stdout",
     "output_type": "stream",
     "text": [
      "ChatCompletionMessage(content='- m3: The student has revised the description with more detail to explain that strings will be combined to create a new string.\\n- a2: The student has added that if the input is a string containing an integer, concatenate.', refusal=None, role='assistant', function_call=None, tool_calls=None)\n"
     ]
    }
   ],
   "source": [
    "from openai import OpenAI\n",
    "client = OpenAI()\n",
    "\n",
    "completion = client.chat.completions.create(\n",
    "    model=\"gpt-4o\",\n",
    "    messages=[\n",
    "        {\"role\": \"system\", \"content\": \"You are a helpful assistant. Answer concisely.\"},\n",
    "        {\n",
    "            \"role\": \"user\",\n",
    "            \"content\": full_prompt\n",
    "        }\n",
    "    ]\n",
    ")\n",
    "\n",
    "print(completion.choices[0].message)"
   ]
  },
  {
   "cell_type": "code",
   "execution_count": 68,
   "metadata": {},
   "outputs": [
    {
     "name": "stdout",
     "output_type": "stream",
     "text": [
      "- m3: The student has revised the description with more detail to explain that strings will be combined to create a new string.\n",
      "- a2: The student has added that if the input is a string containing an integer, concatenate.\n"
     ]
    }
   ],
   "source": [
    "print(completion.choices[0].message.content)"
   ]
  },
  {
   "cell_type": "code",
   "execution_count": null,
   "metadata": {},
   "outputs": [],
   "source": []
  }
 ],
 "metadata": {
  "kernelspec": {
   "display_name": "base",
   "language": "python",
   "name": "python3"
  },
  "language_info": {
   "codemirror_mode": {
    "name": "ipython",
    "version": 3
   },
   "file_extension": ".py",
   "mimetype": "text/x-python",
   "name": "python",
   "nbconvert_exporter": "python",
   "pygments_lexer": "ipython3",
   "version": "3.9.0"
  }
 },
 "nbformat": 4,
 "nbformat_minor": 2
}
